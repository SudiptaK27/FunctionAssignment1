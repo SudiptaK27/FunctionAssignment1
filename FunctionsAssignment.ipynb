{
  "nbformat": 4,
  "nbformat_minor": 0,
  "metadata": {
    "colab": {
      "provenance": []
    },
    "kernelspec": {
      "name": "python3",
      "display_name": "Python 3"
    },
    "language_info": {
      "name": "python"
    }
  },
  "cells": [
    {
      "cell_type": "markdown",
      "source": [
        "# **Theory Qustions**"
      ],
      "metadata": {
        "id": "jN2J54iqV-YQ"
      }
    },
    {
      "cell_type": "markdown",
      "source": [
        "1. What is the difference between a function and a method in Python?\n",
        "\n",
        "\n",
        "Answer:\n",
        "\n",
        "A function is a block of code that is defined using the def keyword and can be called independently.\n",
        "\n",
        "A method is a function that is associated with an object or class. It is called by using object.method() syntax.\n",
        "\n",
        "Example:\n"
      ],
      "metadata": {
        "id": "R1xK_4VCs-zd"
      }
    },
    {
      "cell_type": "code",
      "source": [
        "\n",
        "def greet():      # Function\n",
        "    print(\"Hello\")\n",
        "greet()"
      ],
      "metadata": {
        "colab": {
          "base_uri": "https://localhost:8080/"
        },
        "id": "CiL-MNnVtGUt",
        "outputId": "96cfe2d2-b6c1-468e-baaa-5e2b3e09156c"
      },
      "execution_count": null,
      "outputs": [
        {
          "output_type": "stream",
          "name": "stdout",
          "text": [
            "Hello\n"
          ]
        }
      ]
    },
    {
      "cell_type": "code",
      "source": [
        "'hi'.upper()  #method"
      ],
      "metadata": {
        "colab": {
          "base_uri": "https://localhost:8080/",
          "height": 36
        },
        "id": "8mBW_NMftHKD",
        "outputId": "c59ad3cb-9528-4269-b35f-b85ef47d3c76"
      },
      "execution_count": null,
      "outputs": [
        {
          "output_type": "execute_result",
          "data": {
            "text/plain": [
              "'HI'"
            ],
            "application/vnd.google.colaboratory.intrinsic+json": {
              "type": "string"
            }
          },
          "metadata": {},
          "execution_count": 5
        }
      ]
    },
    {
      "cell_type": "markdown",
      "source": [
        "2. Explain the concept of function arguments and parameters in Python.\n",
        "\n",
        "\n",
        "Answer:\n",
        "\n",
        "Parameters are the variables listed in the function definition.\n",
        "\n",
        "Arguments are the actual values passed when calling the function.\n",
        "\n",
        "Example:\n",
        "\n",
        "\n",
        "\n"
      ],
      "metadata": {
        "id": "tLC9oATlt12B"
      }
    },
    {
      "cell_type": "code",
      "source": [
        "def add(a, b):   # parameters\n",
        "    return a + b\n",
        "\n",
        "    add(5, 3)          # 5 and 3 are arguments\n",
        "print(add(5, 3))\n"
      ],
      "metadata": {
        "colab": {
          "base_uri": "https://localhost:8080/"
        },
        "id": "wwKwqLmOtuvm",
        "outputId": "87232651-b1b8-4281-8b28-e81fc9852e01"
      },
      "execution_count": null,
      "outputs": [
        {
          "output_type": "stream",
          "name": "stdout",
          "text": [
            "8\n"
          ]
        }
      ]
    },
    {
      "cell_type": "markdown",
      "source": [
        "3. What are the different ways to define and call a function in Python?\n",
        "\n",
        "\n",
        "Answer:\n",
        "\n",
        "We can define a function using def or lambda.\n",
        "\n",
        "Call using function name with parentheses.\n",
        "\n",
        "Example:\n",
        "\n"
      ],
      "metadata": {
        "id": "RQBJDgzFvxGd"
      }
    },
    {
      "cell_type": "code",
      "source": [
        "\n",
        "def square(x):\n",
        "    return x * x\n",
        "\n",
        "s = lambda x: x * x\n",
        "square(4)\n"
      ],
      "metadata": {
        "colab": {
          "base_uri": "https://localhost:8080/"
        },
        "id": "inwVLbZRxmEO",
        "outputId": "47dbe7e1-0bd9-43a8-9758-8fd2fa1a2996"
      },
      "execution_count": null,
      "outputs": [
        {
          "output_type": "execute_result",
          "data": {
            "text/plain": [
              "16"
            ]
          },
          "metadata": {},
          "execution_count": 19
        }
      ]
    },
    {
      "cell_type": "code",
      "source": [
        "s(5)"
      ],
      "metadata": {
        "colab": {
          "base_uri": "https://localhost:8080/"
        },
        "id": "n6e0qPdcx4Xx",
        "outputId": "13875229-9d2f-42ab-e7a7-eb1b2ae71f11"
      },
      "execution_count": null,
      "outputs": [
        {
          "output_type": "execute_result",
          "data": {
            "text/plain": [
              "25"
            ]
          },
          "metadata": {},
          "execution_count": 20
        }
      ]
    },
    {
      "cell_type": "markdown",
      "source": [
        "4. What is the purpose of the return statement in a Python function?\n",
        "\n",
        "\n",
        "Answer:\n",
        "\n",
        "The return statement sends a result back to the caller and exits the function.\n",
        "\n",
        "Example:\n"
      ],
      "metadata": {
        "id": "yofOpUzyyFJQ"
      }
    },
    {
      "cell_type": "code",
      "source": [
        "\n",
        "def multiply(a, b):\n",
        "    return a * b\n",
        "\n",
        "\n"
      ],
      "metadata": {
        "id": "Q9rGbmdrx_EF"
      },
      "execution_count": null,
      "outputs": []
    },
    {
      "cell_type": "markdown",
      "source": [
        "5. What are iterators in Python and how do they differ from iterables?\n",
        "\n",
        "\n",
        "Answer:\n",
        "\n",
        "Iterable: An object that can return an iterator (like lists, strings).\n",
        "\n",
        "Iterator: An object with __iter__() and __next__() methods to loop through data.\n",
        "\n",
        "Example:\n"
      ],
      "metadata": {
        "id": "06B3fDkGznl7"
      }
    },
    {
      "cell_type": "code",
      "source": [
        "\n",
        "lst = [1, 2, 3]       # Iterable\n",
        "it = iter(lst)        # Iterator\n",
        "print(next(it))"
      ],
      "metadata": {
        "colab": {
          "base_uri": "https://localhost:8080/"
        },
        "id": "_pbv-PVkzrwa",
        "outputId": "3088009a-1f85-4464-95d3-f7b8c91f8055"
      },
      "execution_count": null,
      "outputs": [
        {
          "output_type": "stream",
          "name": "stdout",
          "text": [
            "1\n"
          ]
        }
      ]
    },
    {
      "cell_type": "markdown",
      "source": [
        "6. Explain the concept of generators in Python and how they are defined.\n",
        "\n",
        "\n",
        "Answer:\n",
        "\n",
        "Generators are functions that yield values one at a time using yield, maintaining their state.\n",
        "\n",
        "Example:\n"
      ],
      "metadata": {
        "id": "vvhgxal204sv"
      }
    },
    {
      "cell_type": "code",
      "source": [
        "\n",
        "def gen():\n",
        "    yield 1\n",
        "    yield 2\n"
      ],
      "metadata": {
        "id": "vWAmMyR71Mhe"
      },
      "execution_count": null,
      "outputs": []
    },
    {
      "cell_type": "markdown",
      "source": [
        "7. What are the advantages of using generators over regular functions?\n",
        "\n",
        "\n",
        "Answer:\n",
        "\n",
        "Saves memory by yielding items one by one.\n",
        "\n",
        "Lazy evaluation: generates values on the fly.\n",
        "\n"
      ],
      "metadata": {
        "id": "PEs2JalL05CF"
      }
    },
    {
      "cell_type": "markdown",
      "source": [
        "8. What is a lambda function in Python and when is it typically used?\n",
        "\n",
        "\n",
        "Answer:\n",
        "\n",
        "An anonymous function defined with lambda.\n",
        "\n",
        "Used for short, simple operations.\n",
        "\n",
        "Example:\n"
      ],
      "metadata": {
        "id": "Nw3RqNvk05Ph"
      }
    },
    {
      "cell_type": "code",
      "source": [
        "\n",
        "square = lambda x: x**2\n",
        "print(square(3))"
      ],
      "metadata": {
        "colab": {
          "base_uri": "https://localhost:8080/"
        },
        "id": "Qh2SuNT61kAJ",
        "outputId": "699f9397-d926-49a9-e479-f8dd5adad3aa"
      },
      "execution_count": null,
      "outputs": [
        {
          "output_type": "stream",
          "name": "stdout",
          "text": [
            "9\n"
          ]
        }
      ]
    },
    {
      "cell_type": "markdown",
      "source": [
        "9. Explain the purpose and usage of the map() function in Python.\n",
        "\n",
        "\n",
        "Answer:\n",
        "\n",
        "map() applies a function to all items in an iterable.\n",
        "\n",
        "Example:\n"
      ],
      "metadata": {
        "id": "S2g_XL9E05cF"
      }
    },
    {
      "cell_type": "code",
      "source": [
        "\n",
        "nums = [1, 2, 3]\n",
        "squared = map(lambda x: x*x, nums)"
      ],
      "metadata": {
        "id": "vIpcyFt41xlG"
      },
      "execution_count": 2,
      "outputs": []
    },
    {
      "cell_type": "markdown",
      "source": [
        "10. What is the difference between map(), reduce(), and filter() functions in Python?\n",
        "\n",
        "\n",
        "Answer:\n",
        "\n",
        "map(): Applies function to each item.\n",
        "\n",
        "filter(): Filters items based on a condition.\n",
        "\n",
        "reduce(): Applies function cumulatively to reduce to one value (needs functools).\n",
        "\n",
        "Example:\n",
        "\n"
      ],
      "metadata": {
        "id": "aoM5eqbt05fu"
      }
    },
    {
      "cell_type": "code",
      "source": [
        "from functools import reduce\n",
        "nums = [1, 2, 3, 4]\n",
        "print(list(map(lambda x: x*x, nums)))\n",
        "print(list(filter(lambda x: x % 2 == 0, nums)))\n",
        "print(reduce(lambda x, y: x+y, nums))"
      ],
      "metadata": {
        "colab": {
          "base_uri": "https://localhost:8080/"
        },
        "id": "2PwnoOj1L5Mn",
        "outputId": "4c319693-dde1-481c-9a1c-eee184e80239"
      },
      "execution_count": null,
      "outputs": [
        {
          "output_type": "stream",
          "name": "stdout",
          "text": [
            "[1, 4, 9, 16]\n",
            "[2, 4]\n",
            "10\n"
          ]
        }
      ]
    },
    {
      "cell_type": "markdown",
      "source": [
        "11.  Using pen & Paper write the internal mechanism for sum operation using  reduce function on this given\n",
        "list:[47,11,42,13];\n",
        "\n",
        "\n",
        "\n",
        "\n",
        "Answer\n",
        "\n",
        "\n"
      ],
      "metadata": {
        "id": "wW1PbseR05jI"
      }
    },
    {
      "cell_type": "code",
      "source": [
        "\n",
        "from functools import reduce\n",
        "lst = [47, 11, 42, 13]\n",
        "result = reduce(lambda x, y: x + y, lst)\n",
        "print(result)  # 113"
      ],
      "metadata": {
        "colab": {
          "base_uri": "https://localhost:8080/"
        },
        "id": "o-ExGFEQMSy4",
        "outputId": "a758181e-3c9a-485f-f110-9e9351c81639"
      },
      "execution_count": null,
      "outputs": [
        {
          "output_type": "stream",
          "name": "stdout",
          "text": [
            "113\n"
          ]
        }
      ]
    },
    {
      "cell_type": "markdown",
      "source": [
        "# **Practical Questions**"
      ],
      "metadata": {
        "id": "NPmGHuqNZdmU"
      }
    },
    {
      "cell_type": "code",
      "source": [
        "# 1.Write a Python function that takes a list of numbers as input and returns the sum of all even numbers in the list\n",
        "\n",
        "\n",
        "def sum_even(nums):\n",
        "    return sum(num for num in nums if num % 2 == 0)\n",
        "\n",
        "print(sum_even([1, 2, 3, 4, 5, 6]))\n",
        "\n"
      ],
      "metadata": {
        "colab": {
          "base_uri": "https://localhost:8080/"
        },
        "id": "6sOF7ZSWMt2Q",
        "outputId": "ce78d117-2260-40c8-b28f-54b20cc2cd8e"
      },
      "execution_count": null,
      "outputs": [
        {
          "output_type": "stream",
          "name": "stdout",
          "text": [
            "12\n"
          ]
        }
      ]
    },
    {
      "cell_type": "code",
      "source": [
        "#2. Create a Python function that accepts a string and returns the reverse of that string.\n",
        "\n",
        "def reverse_string(s):\n",
        "    return s[::-1]\n",
        "\n",
        "# Example of calling the function and printing the result\n",
        "print(reverse_string(\"magic\"))"
      ],
      "metadata": {
        "colab": {
          "base_uri": "https://localhost:8080/"
        },
        "id": "ZMWhgmA6MxkI",
        "outputId": "f7210286-9267-4ba7-e682-f8089501e43c"
      },
      "execution_count": null,
      "outputs": [
        {
          "output_type": "stream",
          "name": "stdout",
          "text": [
            "cigam\n"
          ]
        }
      ]
    },
    {
      "cell_type": "code",
      "source": [
        " #3. Implement a Python function that takes a list of integers and returns a new list containing the squares of each number.\n",
        "\n",
        " def square_list(lst):\n",
        "    return [x * x for x in lst]\n",
        "\n",
        "# Example\n",
        "nums = [1, 2, 3, 4]\n",
        "print(square_list(nums))  # Output: [1, 4, 9, 16]\n",
        "\n"
      ],
      "metadata": {
        "colab": {
          "base_uri": "https://localhost:8080/"
        },
        "id": "MInerNvaVEiH",
        "outputId": "d9f9c8e5-08a3-4b84-c6af-f7925d00027c"
      },
      "execution_count": null,
      "outputs": [
        {
          "output_type": "stream",
          "name": "stdout",
          "text": [
            "[1, 4, 9, 16]\n"
          ]
        }
      ]
    },
    {
      "cell_type": "code",
      "source": [
        "# 4. Write a Python function that checks if a given number is prime or not from 1 to 200.\n",
        "\n",
        "def is_prime(n):\n",
        "    if n < 2:\n",
        "        return False\n",
        "    for i in range(2, int(n ** 0.5) + 1):\n",
        "        if n % i == 0:\n",
        "            return False\n",
        "    return True\n",
        "\n",
        "# Examples\n",
        "print(is_prime(7))   # Output: True\n",
        "print(is_prime(10))  # Output: False"
      ],
      "metadata": {
        "colab": {
          "base_uri": "https://localhost:8080/"
        },
        "id": "SEa40pO6OQO1",
        "outputId": "74cf19db-2ac9-4bd5-f07e-98164d64dbee"
      },
      "execution_count": null,
      "outputs": [
        {
          "output_type": "stream",
          "name": "stdout",
          "text": [
            "True\n",
            "False\n"
          ]
        }
      ]
    },
    {
      "cell_type": "code",
      "source": [
        "#5. Create an iterator class in Python that generates the Fibonacci sequence up to a specified number of terms.\n",
        "\n",
        "class Fibonacci:\n",
        "    def __init__(self, n):\n",
        "        self.n = n\n",
        "        self.a = 0\n",
        "        self.b = 1\n",
        "        self.count = 0\n",
        "\n",
        "    def __iter__(self):\n",
        "        return self\n",
        "\n",
        "    def __next__(self):\n",
        "        if self.count >= self.n:\n",
        "            raise StopIteration\n",
        "        self.count += 1\n",
        "        result = self.a\n",
        "        self.a, self.b = self.b, self.a + self.b\n",
        "        return result\n",
        "\n",
        "# Example\n",
        "fib = Fibonacci(5)\n",
        "print(list(fib))  # Output: [0, 1, 1, 2, 3]"
      ],
      "metadata": {
        "colab": {
          "base_uri": "https://localhost:8080/"
        },
        "id": "p5ydXrSdPkPy",
        "outputId": "e6be8380-d06a-490a-fef2-a44b5f3bcc5d"
      },
      "execution_count": null,
      "outputs": [
        {
          "output_type": "stream",
          "name": "stdout",
          "text": [
            "[0, 1, 1, 2, 3]\n"
          ]
        }
      ]
    },
    {
      "cell_type": "code",
      "source": [
        "#6. Write a generator function in Python that yields the powers of 2 up to a given exponent\n",
        "\n",
        "def powers_of_two(exp):\n",
        "    for i in range(exp + 1):\n",
        "        yield 2 ** i\n",
        "\n",
        "# Example\n",
        "print(list(powers_of_two(4)))  # Output: [1, 2, 4, 8, 16]\n"
      ],
      "metadata": {
        "colab": {
          "base_uri": "https://localhost:8080/"
        },
        "id": "HwtwQuquP8O7",
        "outputId": "5ebc9135-b9c2-4de6-92be-7994ec9a8504"
      },
      "execution_count": null,
      "outputs": [
        {
          "output_type": "stream",
          "name": "stdout",
          "text": [
            "[1, 2, 4, 8, 16]\n"
          ]
        }
      ]
    },
    {
      "cell_type": "code",
      "source": [
        "# 7.  Implement a generator function that reads a file line by line and yields each line as a string\n",
        "\n",
        "def read_file(file_path):\n",
        "    with open(file_path, 'r') as f:\n",
        "        for line in f:\n",
        "            yield line.strip()\n"
      ],
      "metadata": {
        "id": "1S9-b09pRA4-"
      },
      "execution_count": null,
      "outputs": []
    },
    {
      "cell_type": "code",
      "source": [
        " #8. Use a lambda function in Python to sort a list of tuples based on the second element of each tuple.\n",
        "\n",
        "data = [(1, 3), (2, 1), (3, 2)]\n",
        "sorted_data = sorted(data, key=lambda x: x[1])\n",
        "\n",
        "print(sorted_data)  # Output: [(2, 1), (3, 2), (1, 3)]"
      ],
      "metadata": {
        "colab": {
          "base_uri": "https://localhost:8080/"
        },
        "id": "Mbdw2vLlRgpF",
        "outputId": "88e4fd50-f99c-4f98-c667-e82ce841c023"
      },
      "execution_count": null,
      "outputs": [
        {
          "output_type": "stream",
          "name": "stdout",
          "text": [
            "[(2, 1), (3, 2), (1, 3)]\n"
          ]
        }
      ]
    },
    {
      "cell_type": "code",
      "source": [
        "#9. Write a Python program that uses `map()` to convert a list of temperatures from Celsius to Fahrenheit.\n",
        "\n",
        "celsius = [0, 10, 20]\n",
        "fahrenheit = list(map(lambda x: (x * 9/5) + 32, celsius))\n",
        "\n",
        "print(fahrenheit)"
      ],
      "metadata": {
        "colab": {
          "base_uri": "https://localhost:8080/"
        },
        "id": "x3nkYEa2Ru5D",
        "outputId": "c52c4ce1-c71e-4893-db9c-c18312e34555"
      },
      "execution_count": null,
      "outputs": [
        {
          "output_type": "stream",
          "name": "stdout",
          "text": [
            "[32.0, 50.0, 68.0]\n"
          ]
        }
      ]
    },
    {
      "cell_type": "code",
      "source": [
        "#10. Create a Python program that uses `filter()` to remove all the vowels from a given string.\n",
        "\n",
        "s = \"Hello World\"\n",
        "result = ''.join(filter(lambda x: x.lower() not in 'aeiou', s))\n",
        "\n",
        "print(result)  # Output: Hll Wrld"
      ],
      "metadata": {
        "colab": {
          "base_uri": "https://localhost:8080/"
        },
        "id": "oPeLw6BMScVo",
        "outputId": "79b31114-affb-4bab-8c3f-639389dcbe99"
      },
      "execution_count": null,
      "outputs": [
        {
          "output_type": "stream",
          "name": "stdout",
          "text": [
            "Hll Wrld\n"
          ]
        }
      ]
    },
    {
      "cell_type": "code",
      "source": [
        "'''\n",
        " 11.  Imagine an accounting routine used in a book shop. It works on a list with sublists, which look like this:\n",
        "Write a Python program, which returns a list with 2-tuples. Each tuple consists of the order number and the\n",
        "product of the price per item and the quantity. The product should be increased by 10,- € if the value of the\n",
        "order is smaller than 100,00 €.\n",
        "\n",
        "Write a Python program using lambda and map.\n",
        "'''\n",
        "\n",
        "orders = [\n",
        "    [34587, \"Learning Python\", 4, 40.95],\n",
        "    [98762, \"Programming Python\", 5, 56.80],\n",
        "    [77226, \"Head First Python\", 3, 32.95],\n",
        "    [88112, \"Einführung in Python3\", 3, 24.99]\n",
        "]\n",
        "\n",
        "result = list(map(lambda x: (\n",
        "    x[0], x[2]*x[3] if x[2]*x[3] > 100 else x[2]*x[3] + 10\n",
        "), orders))\n",
        "\n",
        "print(result)\n"
      ],
      "metadata": {
        "colab": {
          "base_uri": "https://localhost:8080/"
        },
        "id": "XDHAUlbESqDe",
        "outputId": "e4199613-14c5-4a9d-b450-8e4715818bb6"
      },
      "execution_count": null,
      "outputs": [
        {
          "output_type": "stream",
          "name": "stdout",
          "text": [
            "[(34587, 163.8), (98762, 284.0), (77226, 108.85000000000001), (88112, 84.97)]\n"
          ]
        }
      ]
    }
  ]
}